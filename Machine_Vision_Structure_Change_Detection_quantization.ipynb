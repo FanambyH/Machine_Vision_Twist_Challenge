{
  "nbformat": 4,
  "nbformat_minor": 0,
  "metadata": {
    "colab": {
      "name": "Machine_Vision_Structure_Change_Detection_quantization.ipynb",
      "provenance": [],
      "collapsed_sections": []
    },
    "kernelspec": {
      "display_name": "Python 3",
      "name": "python3"
    }
  },
  "cells": [
    {
      "cell_type": "markdown",
      "metadata": {
        "id": "qKE9s_WWcyOA"
      },
      "source": [
        "This script will show you how to read frames from a video, resize it and sample sub-images"
      ]
    },
    {
      "cell_type": "code",
      "metadata": {
        "id": "oRajjXjQ0x4h",
        "outputId": "1b5d3022-4988-4b38-d277-1bd5f5ff1ea5",
        "colab": {
          "base_uri": "https://localhost:8080/",
          "height": 34
        }
      },
      "source": [
        "from google.colab import drive\n",
        "drive.mount('/content/drive')"
      ],
      "execution_count": null,
      "outputs": [
        {
          "output_type": "stream",
          "text": [
            "Mounted at /content/drive\n"
          ],
          "name": "stdout"
        }
      ]
    },
    {
      "cell_type": "code",
      "metadata": {
        "id": "8MPC_oI3cprv"
      },
      "source": [
        "from google.colab.patches import cv2_imshow\n",
        "from IPython.display import clear_output, Image\n",
        "import cv2\n",
        "import numpy as np\n",
        "import matplotlib.pyplot as plt\n",
        "import time"
      ],
      "execution_count": null,
      "outputs": []
    },
    {
      "cell_type": "code",
      "metadata": {
        "id": "d-IQdnfNmeFI"
      },
      "source": [
        "def sample_image(img, x, y, win_size, cnn_size):\n",
        "  h, w, = img.shape\n",
        "\n",
        "  delta = int(win_size/2)\n",
        "\n",
        "  x0 = x - delta \n",
        "  x1 = x + delta\n",
        "  y0 = y - delta\n",
        "  y1 = y + delta\n",
        "\n",
        "  if y0 < 0:\n",
        "      y0 = int(0)\n",
        "      y1 = int(win_size * 3)\n",
        "  \n",
        "  if y1 > h:\n",
        "      y0 = int(h - win_size * 3)\n",
        "      y1 = int(h)\n",
        "  \n",
        "  if x0 < 0:\n",
        "      x0 = int(0)\n",
        "      x1 = int(win_size * 4)\n",
        "  \n",
        "  if x1 > w:\n",
        "      x0 = int(w - win_size * 4)\n",
        "      x1 = int(w)\n",
        "\n",
        "  img_sample = img[y0:y1, x0:x1]\n",
        "\n",
        "  # convert to CNN format\n",
        "  img_cnn = cv2.resize(img_sample, (cnn_size,cnn_size))\n",
        "  img_cnn = cv2.cvtColor(img_cnn,cv2.COLOR_GRAY2RGB)\n",
        "\n",
        "\n",
        "  return img_cnn, [x0,x1,y0,y1]"
      ],
      "execution_count": null,
      "outputs": []
    },
    {
      "cell_type": "code",
      "metadata": {
        "id": "rMSOR5pKAxvL"
      },
      "source": [
        "def sample_image_2(img, x0,y0,x1,y1 ,win_size, cnn_size):\n",
        "  \"\"\"\n",
        "  This function allows to get a custom sample for an image\n",
        "  \"\"\"\n",
        "\n",
        "  img_sample = img[x0:y0, x1:y1]\n",
        "  # convert to CNN format\n",
        "  img_cnn = cv2.resize(img_sample, (cnn_size,cnn_size))\n",
        "  img_cnn = cv2.cvtColor(img_cnn,cv2.COLOR_GRAY2RGB)\n",
        "\n",
        "\n",
        "  return img_cnn, [x0,x1,y0,y1]"
      ],
      "execution_count": null,
      "outputs": []
    },
    {
      "cell_type": "code",
      "metadata": {
        "id": "caNnKVaGo9Pq",
        "outputId": "e68bb23a-fe4c-4a2d-ac23-c971068b700b",
        "colab": {
          "base_uri": "https://localhost:8080/",
          "height": 420
        }
      },
      "source": [
        "# Use the loaded model to make predictions \n",
        "from numpy import loadtxt\n",
        "from keras.models import load_model\n",
        " \n",
        "# load model\n",
        "model = load_model('/content/drive/My Drive/Module 2/Output-M2-TWIST/image_no_mixed_rocks_classifer_model.h5')\n",
        "# summarize model.\n",
        "model.summary()\n"
      ],
      "execution_count": null,
      "outputs": [
        {
          "output_type": "stream",
          "text": [
            "Model: \"functional_1\"\n",
            "_________________________________________________________________\n",
            "Layer (type)                 Output Shape              Param #   \n",
            "=================================================================\n",
            "input_2 (InputLayer)         [(None, 192, 192, 3)]     0         \n",
            "_________________________________________________________________\n",
            "sequential (Sequential)      (None, 192, 192, 3)       0         \n",
            "_________________________________________________________________\n",
            "tf_op_layer_RealDiv (TensorF (None, 192, 192, 3)       0         \n",
            "_________________________________________________________________\n",
            "tf_op_layer_Sub (TensorFlowO (None, 192, 192, 3)       0         \n",
            "_________________________________________________________________\n",
            "mobilenetv2_1.00_192 (Functi (None, 6, 6, 1280)        2257984   \n",
            "_________________________________________________________________\n",
            "global_average_pooling2d (Gl (None, 1280)              0         \n",
            "_________________________________________________________________\n",
            "dropout (Dropout)            (None, 1280)              0         \n",
            "_________________________________________________________________\n",
            "dense (Dense)                (None, 4)                 5124      \n",
            "=================================================================\n",
            "Total params: 2,263,108\n",
            "Trainable params: 5,124\n",
            "Non-trainable params: 2,257,984\n",
            "_________________________________________________________________\n"
          ],
          "name": "stdout"
        }
      ]
    },
    {
      "cell_type": "code",
      "metadata": {
        "id": "E9CRY4PzL-3G"
      },
      "source": [
        "#quantize model \n",
        "#Now lets choose the optimzation strategy\n",
        "import tensorflow as tf\n",
        "optimization = tf.lite.Optimize.OPTIMIZE_FOR_LATENCY"
      ],
      "execution_count": null,
      "outputs": []
    },
    {
      "cell_type": "code",
      "metadata": {
        "id": "DXiOmjlBME5U",
        "outputId": "868cc22f-cf80-49c1-c2c2-2ce5f32f7a12",
        "colab": {
          "base_uri": "https://localhost:8080/",
          "height": 154
        }
      },
      "source": [
        "#Generate the tflite model\n",
        "converter = tf.lite.TFLiteConverter.from_keras_model(model)\n",
        "converter.optimizations = [optimization]\n",
        "tflite_model = converter.convert()\n",
        "\n",
        "#Now lets save the TFlite model\n",
        "with open('rocks_classifier.tflite','wb') as f:\n",
        "    f.write(tflite_model)"
      ],
      "execution_count": null,
      "outputs": [
        {
          "output_type": "stream",
          "text": [
            "WARNING:tensorflow:From /usr/local/lib/python3.6/dist-packages/tensorflow/python/training/tracking/tracking.py:111: Model.state_updates (from tensorflow.python.keras.engine.training) is deprecated and will be removed in a future version.\n",
            "Instructions for updating:\n",
            "This property should not be used in TensorFlow 2.0, as updates are applied automatically.\n",
            "WARNING:tensorflow:From /usr/local/lib/python3.6/dist-packages/tensorflow/python/training/tracking/tracking.py:111: Layer.updates (from tensorflow.python.keras.engine.base_layer) is deprecated and will be removed in a future version.\n",
            "Instructions for updating:\n",
            "This property should not be used in TensorFlow 2.0, as updates are applied automatically.\n",
            "INFO:tensorflow:Assets written to: /tmp/tmp9tqtbiyk/assets\n"
          ],
          "name": "stdout"
        }
      ]
    },
    {
      "cell_type": "code",
      "metadata": {
        "id": "6tdO0AXMMWUV"
      },
      "source": [
        "#Time to test the TFlite mode\n",
        "interpreter = tf.lite.Interpreter(model_content = tflite_model)\n",
        "interpreter.allocate_tensors()\n",
        "\n",
        "input_details = interpreter.get_input_details()\n",
        "output_details = interpreter.get_output_details()\n",
        "\n",
        "input_shape = input_details[0]['shape']"
      ],
      "execution_count": null,
      "outputs": []
    },
    {
      "cell_type": "code",
      "metadata": {
        "id": "z2bilcZcMfCr"
      },
      "source": [
        "def prediction_on_lite_model(sample,interpreter,class_names):\n",
        "  \"\"\"\n",
        "  This function allows to perform prediction\n",
        "  on the lite model \n",
        "\n",
        "  parameters : \n",
        "  sample (image) : the image to predict\n",
        "  interperter (interpreter) : the lite model interpreter\n",
        "  class_names (array): the class names\n",
        "\n",
        "  returns \n",
        "  output_data (array) : the prediction propability \n",
        "  \"\"\"\n",
        "  sample = sample.reshape(input_shape)\n",
        "  sample = sample.astype('float32')\n",
        "  interpreter.set_tensor(input_details[0]['index'],sample)\n",
        "  interpreter.invoke()\n",
        "  output_data = interpreter.get_tensor(output_details[0]['index'])\n",
        "  return output_data"
      ],
      "execution_count": null,
      "outputs": []
    },
    {
      "cell_type": "code",
      "metadata": {
        "id": "JsunqfcepS_n"
      },
      "source": [
        "from tensorflow.keras.preprocessing.image import load_img\n",
        "from tensorflow.keras.preprocessing.image import img_to_array\n",
        "\n",
        "def predict_image(image,model):\n",
        "  \"\"\"\n",
        "  this function allows classify an image\n",
        "\n",
        "  parameters:\n",
        "  image (array) : the image to classify\n",
        "  model (model) : the classifier\n",
        "\n",
        "  returns:\n",
        "  result( np array) : the prediction \n",
        "\n",
        "  \"\"\"\n",
        "  test_image = np.expand_dims(image, axis = 0)\n",
        "  #predict the result\n",
        "  result = model.predict(test_image)\n",
        "  return result\n"
      ],
      "execution_count": null,
      "outputs": []
    },
    {
      "cell_type": "code",
      "metadata": {
        "id": "j06p_U9Y6rp3"
      },
      "source": [
        "import pandas as pd\n",
        "def array_to_dataframe(array):\n",
        "  \"\"\"\n",
        "  this function allows to convert any array to dataframe \n",
        "\n",
        "  parameters:\n",
        "  array (array) : the array to convert\n",
        "\n",
        "  returns:\n",
        "  array_df( pd dataframe) : the dataframe\n",
        "\n",
        "  \"\"\"\n",
        "  array_df =  pd.DataFrame(array, columns=['chip', 'fines', 'lump', 'pellets']) \n",
        "  return array_df"
      ],
      "execution_count": null,
      "outputs": []
    },
    {
      "cell_type": "code",
      "metadata": {
        "id": "khVOGHi2XB94"
      },
      "source": [
        "import pandas as pd \n",
        "from sklearn.ensemble import IsolationForest\n",
        "def is_changed(db,contamination=.01):\n",
        "  \"\"\"\n",
        "  this function allows to detect any structure changes using Isolation Forest\n",
        "\n",
        "  parameters:\n",
        "  df (pd dataframe) : the dataframe to analyze\n",
        "  contamination (float) : contamination threshold\n",
        "\n",
        "  returns:\n",
        "  df( pb dataframe) : the input dataframe with the structure chage analysis\n",
        "  0 if changes 1 otherwise\n",
        "\n",
        "  \"\"\"\n",
        "  df = db.copy()   \n",
        "  cols = df.columns.drop('Frame').tolist()\n",
        "  delta_cols = list()\n",
        "  for c in cols:\n",
        "      #Compute the variation of the probability between the classes \n",
        "      df['delta_' + c] = abs(df[c].diff()).fillna(0)\n",
        "      delta_cols.append('delta_' + c)\n",
        "  #predict variation outlier\n",
        "  model = IsolationForest(n_estimators=5, random_state=47, contamination=contamination)\n",
        "  #detect variation peak : \n",
        "  df['variation_pick'] = model.fit_predict(df[delta_cols].astype(float))\n",
        "  return df['variation_pick'].iloc[-1]"
      ],
      "execution_count": null,
      "outputs": []
    },
    {
      "cell_type": "code",
      "metadata": {
        "id": "SivDNG9bGoZJ"
      },
      "source": [
        "# Filter black screen\n",
        "def is_sorta_black(arr, threshold=10):\n",
        "  \"\"\"\n",
        "  this function allows to filter the black images : \n",
        "\n",
        "   parameters : \n",
        "   arr (np array) : image as a numpy arrat\n",
        "   threshold (int) : threshold \n",
        "\n",
        "   returns : \n",
        "   bool : True if black images False otherwise\n",
        "\n",
        "   \n",
        "  \"\"\"\n",
        "    tot = np.float(np.sum(arr))\n",
        "    if tot/arr.size  > threshold : \n",
        "       return False\n",
        "    else:\n",
        "       return True"
      ],
      "execution_count": null,
      "outputs": []
    },
    {
      "cell_type": "code",
      "metadata": {
        "id": "UX0y9Jhp4ay1"
      },
      "source": [
        "class_names = ['chip', 'fines', 'lump', 'pellets']"
      ],
      "execution_count": null,
      "outputs": []
    },
    {
      "cell_type": "code",
      "metadata": {
        "id": "pZhI-QLndKPH"
      },
      "source": [
        "def video_treatment(vid_path):\n",
        "  \"\"\"\n",
        "  this function allows to analyse the video : \n",
        "  - build array to get the bin composition\n",
        "  - decide when notification should be sent\n",
        "\n",
        "   parameters : \n",
        "   vid_path (string) : path to the video \n",
        "\n",
        "   returns : \n",
        "   pred_df (pandas dataframe): the prediction \n",
        "   structure_df (pandas dataframe): the structure change prediction\n",
        "   pred_frame (np array): array of the video frames \n",
        "\n",
        "   \n",
        "  \"\"\"\n",
        "  cap = cv2.VideoCapture(vid_path)\n",
        "  N_frames = int(cap.get(cv2.CAP_PROP_FRAME_COUNT))\n",
        "  print(N_frames)\n",
        "  sample_window_size = 100\n",
        "  cnn_img_size = 192\n",
        "  pred_df = pd.DataFrame()\n",
        "  pred_frame = []\n",
        "  pred_per_frame = []\n",
        "  # df for storing chrome structure\n",
        "  structure_df = pd.DataFrame()\n",
        "  tic = time.process_time()\n",
        "  count_img = 0\n",
        "  STEPS = 5\n",
        "  for frame in range(N_frames):\n",
        "    has_img, img = cap.read()\n",
        "    if int(frame/ STEPS) == (frame/ STEPS):\n",
        "        sample_df = pd.DataFrame()\n",
        "        if not is_sorta_black(img):\n",
        "            if has_img:\n",
        "              count_img +=1\n",
        "              # Images in your trainging set were monochrome\n",
        "              img_mono = cv2.cvtColor(img, cv2.COLOR_BGR2GRAY)\n",
        "\n",
        "              # Grab a sample from the image. X=0, Y=0 is the top left corner. X and Y indicates the center of the sample.\n",
        "              #sample 1 and 2 from Emile's sampling function \n",
        "              y = [300,200]\n",
        "              x = [300,100]\n",
        "              for i in range(len(x)):\n",
        "                sample, rect= sample_image(img_mono, int(x[i]), int(y[i]), sample_window_size, cnn_img_size)\n",
        "                pred_s = prediction_on_lite_model(sample,interpreter,class_names) #predict using the lite model\n",
        "                #pred_s = predict_image(sample,model) #predict using the initial model\n",
        "\n",
        "              #sample 3 and 4 from the cutomized sampling function \n",
        "              sample, rect= sample_image_2(img_mono, 150,250, 50,200, sample_window_size, cnn_img_size)\n",
        "              pred_s = prediction_on_lite_model(sample,interpreter,class_names) #predict using the lite model\n",
        "              #pred_s = predict_image(sample,model)\n",
        "              sample_df = sample_df.append(array_to_dataframe(pred_s))\n",
        "\n",
        "              sample, rect= sample_image_2(img_mono, 230,300, 100,200, sample_window_size, cnn_img_size)\n",
        "              pred_s = prediction_on_lite_model(sample,interpreter,class_names) #predict using the initial model\n",
        "              #pred_s = predict_image(sample,model)\n",
        "              sample_df = sample_df.append(array_to_dataframe(pred_s))\n",
        " \n",
        "\n",
        "              #GET Global Composition\n",
        "              sample_df['Frame'] = frame\n",
        "              #Set change to zeros by default can be change if necessary \n",
        "              sample_df['change'] = 0\n",
        "              group_sample_df = sample_df.groupby('Frame').mean().reset_index()\n",
        "              #Store DataFrame\n",
        "              structure_df = pd.concat((structure_df, sample_df))\n",
        "              if count_img > 3:\n",
        "                  result = is_changed(structure_df) # detect change\n",
        "                  if result== -1:\n",
        "                    structure_df['change'].iloc[-1] = 1\n",
        "                    print(\"structure change on frame \"+ str(frame))\n",
        "                    plt.imshow(img)\n",
        "                    plt.show()\n",
        "\n",
        "              pred_df = pred_df.append(array_to_dataframe(pred_s))\n",
        "              pred_frame.append(frame) \n",
        "  dt = time.process_time() - tic\n",
        "  print(dt)\n",
        "  print(dt/count_img) # Samples per frame should be below 150 ms\n",
        "\n",
        "  return structure_df,pred_df,pred_frame"
      ],
      "execution_count": 93,
      "outputs": []
    },
    {
      "cell_type": "code",
      "metadata": {
        "id": "dh2XyUVUDJry"
      },
      "source": [
        "vid_path = \"/content/drive/Shared drives/DSI Shared Folder/Module 2/Twist Data/bin_1.mp4\"\n",
        "%time\n",
        "structure,pred_df,pred_frame = video_treatment(vid_path)"
      ],
      "execution_count": null,
      "outputs": []
    },
    {
      "cell_type": "code",
      "metadata": {
        "id": "5iymLttPM_J-"
      },
      "source": [
        "pred_df['Frame'] = pred_frame\n",
        "structure[\"max_proba\"] = structure[class_names].max(1)\n",
        "notification = structure[structure['change']==1] #get the frames where notifications should have been sent "
      ],
      "execution_count": 106,
      "outputs": []
    },
    {
      "cell_type": "code",
      "metadata": {
        "id": "ehHRYamkh1BS",
        "outputId": "1552e362-6516-464a-9911-660884117bd4",
        "colab": {
          "base_uri": "https://localhost:8080/",
          "height": 195
        }
      },
      "source": [
        "pred_df.head()"
      ],
      "execution_count": 107,
      "outputs": [
        {
          "output_type": "execute_result",
          "data": {
            "text/html": [
              "<div>\n",
              "<style scoped>\n",
              "    .dataframe tbody tr th:only-of-type {\n",
              "        vertical-align: middle;\n",
              "    }\n",
              "\n",
              "    .dataframe tbody tr th {\n",
              "        vertical-align: top;\n",
              "    }\n",
              "\n",
              "    .dataframe thead th {\n",
              "        text-align: right;\n",
              "    }\n",
              "</style>\n",
              "<table border=\"1\" class=\"dataframe\">\n",
              "  <thead>\n",
              "    <tr style=\"text-align: right;\">\n",
              "      <th></th>\n",
              "      <th>chip</th>\n",
              "      <th>fines</th>\n",
              "      <th>lump</th>\n",
              "      <th>pellets</th>\n",
              "      <th>Frame</th>\n",
              "    </tr>\n",
              "  </thead>\n",
              "  <tbody>\n",
              "    <tr>\n",
              "      <th>0</th>\n",
              "      <td>0.000084</td>\n",
              "      <td>0.001668</td>\n",
              "      <td>1.655434e-06</td>\n",
              "      <td>0.998246</td>\n",
              "      <td>0</td>\n",
              "    </tr>\n",
              "    <tr>\n",
              "      <th>0</th>\n",
              "      <td>0.000156</td>\n",
              "      <td>0.002379</td>\n",
              "      <td>2.450008e-05</td>\n",
              "      <td>0.997441</td>\n",
              "      <td>5</td>\n",
              "    </tr>\n",
              "    <tr>\n",
              "      <th>0</th>\n",
              "      <td>0.000236</td>\n",
              "      <td>0.000504</td>\n",
              "      <td>1.223448e-05</td>\n",
              "      <td>0.999248</td>\n",
              "      <td>10</td>\n",
              "    </tr>\n",
              "    <tr>\n",
              "      <th>0</th>\n",
              "      <td>0.000396</td>\n",
              "      <td>0.000396</td>\n",
              "      <td>1.552775e-05</td>\n",
              "      <td>0.999193</td>\n",
              "      <td>15</td>\n",
              "    </tr>\n",
              "    <tr>\n",
              "      <th>0</th>\n",
              "      <td>0.000013</td>\n",
              "      <td>0.000018</td>\n",
              "      <td>2.387079e-07</td>\n",
              "      <td>0.999969</td>\n",
              "      <td>20</td>\n",
              "    </tr>\n",
              "  </tbody>\n",
              "</table>\n",
              "</div>"
            ],
            "text/plain": [
              "       chip     fines          lump   pellets  Frame\n",
              "0  0.000084  0.001668  1.655434e-06  0.998246      0\n",
              "0  0.000156  0.002379  2.450008e-05  0.997441      5\n",
              "0  0.000236  0.000504  1.223448e-05  0.999248     10\n",
              "0  0.000396  0.000396  1.552775e-05  0.999193     15\n",
              "0  0.000013  0.000018  2.387079e-07  0.999969     20"
            ]
          },
          "metadata": {
            "tags": []
          },
          "execution_count": 107
        }
      ]
    },
    {
      "cell_type": "code",
      "metadata": {
        "id": "sgNzl-9bqqLq",
        "outputId": "31e0ebc0-59eb-426c-fa40-ca86746d3425",
        "colab": {
          "base_uri": "https://localhost:8080/",
          "height": 195
        }
      },
      "source": [
        "notification"
      ],
      "execution_count": 108,
      "outputs": [
        {
          "output_type": "execute_result",
          "data": {
            "text/html": [
              "<div>\n",
              "<style scoped>\n",
              "    .dataframe tbody tr th:only-of-type {\n",
              "        vertical-align: middle;\n",
              "    }\n",
              "\n",
              "    .dataframe tbody tr th {\n",
              "        vertical-align: top;\n",
              "    }\n",
              "\n",
              "    .dataframe thead th {\n",
              "        text-align: right;\n",
              "    }\n",
              "</style>\n",
              "<table border=\"1\" class=\"dataframe\">\n",
              "  <thead>\n",
              "    <tr style=\"text-align: right;\">\n",
              "      <th></th>\n",
              "      <th>chip</th>\n",
              "      <th>fines</th>\n",
              "      <th>lump</th>\n",
              "      <th>pellets</th>\n",
              "      <th>Frame</th>\n",
              "      <th>change</th>\n",
              "      <th>max_proba</th>\n",
              "    </tr>\n",
              "  </thead>\n",
              "  <tbody>\n",
              "    <tr>\n",
              "      <th>0</th>\n",
              "      <td>0.000047</td>\n",
              "      <td>0.001293</td>\n",
              "      <td>0.000003</td>\n",
              "      <td>0.998657</td>\n",
              "      <td>70</td>\n",
              "      <td>1</td>\n",
              "      <td>0.998657</td>\n",
              "    </tr>\n",
              "    <tr>\n",
              "      <th>0</th>\n",
              "      <td>0.991100</td>\n",
              "      <td>0.000010</td>\n",
              "      <td>0.008863</td>\n",
              "      <td>0.000028</td>\n",
              "      <td>525</td>\n",
              "      <td>1</td>\n",
              "      <td>0.991100</td>\n",
              "    </tr>\n",
              "    <tr>\n",
              "      <th>0</th>\n",
              "      <td>0.984035</td>\n",
              "      <td>0.000030</td>\n",
              "      <td>0.015883</td>\n",
              "      <td>0.000052</td>\n",
              "      <td>530</td>\n",
              "      <td>1</td>\n",
              "      <td>0.984035</td>\n",
              "    </tr>\n",
              "    <tr>\n",
              "      <th>0</th>\n",
              "      <td>0.952413</td>\n",
              "      <td>0.000027</td>\n",
              "      <td>0.047469</td>\n",
              "      <td>0.000091</td>\n",
              "      <td>535</td>\n",
              "      <td>1</td>\n",
              "      <td>0.952413</td>\n",
              "    </tr>\n",
              "    <tr>\n",
              "      <th>0</th>\n",
              "      <td>0.549463</td>\n",
              "      <td>0.442689</td>\n",
              "      <td>0.005249</td>\n",
              "      <td>0.002599</td>\n",
              "      <td>550</td>\n",
              "      <td>1</td>\n",
              "      <td>0.549463</td>\n",
              "    </tr>\n",
              "  </tbody>\n",
              "</table>\n",
              "</div>"
            ],
            "text/plain": [
              "       chip     fines      lump   pellets  Frame  change  max_proba\n",
              "0  0.000047  0.001293  0.000003  0.998657     70       1   0.998657\n",
              "0  0.991100  0.000010  0.008863  0.000028    525       1   0.991100\n",
              "0  0.984035  0.000030  0.015883  0.000052    530       1   0.984035\n",
              "0  0.952413  0.000027  0.047469  0.000091    535       1   0.952413\n",
              "0  0.549463  0.442689  0.005249  0.002599    550       1   0.549463"
            ]
          },
          "metadata": {
            "tags": []
          },
          "execution_count": 108
        }
      ]
    },
    {
      "cell_type": "code",
      "metadata": {
        "id": "GZpN_M5QnTzH"
      },
      "source": [
        "xticks=[0,50,100,150,200,250,300,350,400,450,500,550,600,650,700,750,800,850,900,1000,1050,1100,1150,1200,1250,1300,1350,1400,1450,1500]"
      ],
      "execution_count": null,
      "outputs": []
    },
    {
      "cell_type": "code",
      "metadata": {
        "id": "7RCSy3EOGIxG"
      },
      "source": [
        "def plot_bin_composition(pred_df,notification):\n",
        "  \"\"\"\n",
        "  This function allows to plot the in composition \n",
        "  and indicate where the notification should have been sent\n",
        "\n",
        "  parameters: \n",
        "  pred_df (pd dataframe) :  dataframe containing the composition percentage\n",
        "  notification (pd dataframe ) : dataframe containing the notification frame\n",
        "  \"\"\"\n",
        "  ax = pred_df.plot.area(x='Frame',figsize=(20, 5),xticks=xticks)\n",
        "  ax.set_ylabel(\"Composition [%]\")\n",
        "  ax.set_xlabel(\"Frame Number\")\n",
        "  ax.legend(bbox_to_anchor=(1.05, 1), loc='upper left', borderaxespad=0.)\n",
        "  for frame in notification['Frame']:\n",
        "    ax = plt.axvline(linewidth=4,x=frame, ymin=0.05, ymax=0.983436, color='b', label='axvline - % of full height')\n",
        "  "
      ],
      "execution_count": 110,
      "outputs": []
    },
    {
      "cell_type": "code",
      "metadata": {
        "id": "JYRn84UqgKrB",
        "outputId": "266a26c5-2853-4147-db65-f63588585b55",
        "colab": {
          "base_uri": "https://localhost:8080/",
          "height": 290
        }
      },
      "source": [
        "plot_bin_composition(pred_df,notification)"
      ],
      "execution_count": 111,
      "outputs": [
        {
          "output_type": "display_data",
          "data": {
            "image/png": "[encoded data removed]",
            "text/plain": [
              "<Figure size 1440x360 with 1 Axes>"
            ]
          },
          "metadata": {
            "tags": [],
            "needs_background": "light"
          }
        }
      ]
    },
    {
      "cell_type": "code",
      "metadata": {
        "id": "1kxAa6OjrtmR",
        "outputId": "fc1cb308-c114-4a34-c407-a2da601359b4",
        "colab": {
          "base_uri": "https://localhost:8080/",
          "height": 195
        }
      },
      "source": [
        "pred_df['ndex_max'] = np.argmax(pred_df[class_names].values, 1)\n",
        "pred_df.head()"
      ],
      "execution_count": 88,
      "outputs": [
        {
          "output_type": "execute_result",
          "data": {
            "text/html": [
              "<div>\n",
              "<style scoped>\n",
              "    .dataframe tbody tr th:only-of-type {\n",
              "        vertical-align: middle;\n",
              "    }\n",
              "\n",
              "    .dataframe tbody tr th {\n",
              "        vertical-align: top;\n",
              "    }\n",
              "\n",
              "    .dataframe thead th {\n",
              "        text-align: right;\n",
              "    }\n",
              "</style>\n",
              "<table border=\"1\" class=\"dataframe\">\n",
              "  <thead>\n",
              "    <tr style=\"text-align: right;\">\n",
              "      <th></th>\n",
              "      <th>chip</th>\n",
              "      <th>fines</th>\n",
              "      <th>lump</th>\n",
              "      <th>pellets</th>\n",
              "      <th>Frame</th>\n",
              "      <th>ndex_max</th>\n",
              "    </tr>\n",
              "  </thead>\n",
              "  <tbody>\n",
              "    <tr>\n",
              "      <th>0</th>\n",
              "      <td>0.005812</td>\n",
              "      <td>0.000411</td>\n",
              "      <td>0.000003</td>\n",
              "      <td>0.993774</td>\n",
              "      <td>0</td>\n",
              "      <td>3</td>\n",
              "    </tr>\n",
              "    <tr>\n",
              "      <th>0</th>\n",
              "      <td>0.015484</td>\n",
              "      <td>0.000152</td>\n",
              "      <td>0.000001</td>\n",
              "      <td>0.984363</td>\n",
              "      <td>5</td>\n",
              "      <td>3</td>\n",
              "    </tr>\n",
              "    <tr>\n",
              "      <th>0</th>\n",
              "      <td>0.025408</td>\n",
              "      <td>0.000350</td>\n",
              "      <td>0.000003</td>\n",
              "      <td>0.974239</td>\n",
              "      <td>10</td>\n",
              "      <td>3</td>\n",
              "    </tr>\n",
              "    <tr>\n",
              "      <th>0</th>\n",
              "      <td>0.021895</td>\n",
              "      <td>0.000266</td>\n",
              "      <td>0.000002</td>\n",
              "      <td>0.977837</td>\n",
              "      <td>15</td>\n",
              "      <td>3</td>\n",
              "    </tr>\n",
              "    <tr>\n",
              "      <th>0</th>\n",
              "      <td>0.001866</td>\n",
              "      <td>0.000421</td>\n",
              "      <td>0.000007</td>\n",
              "      <td>0.997706</td>\n",
              "      <td>20</td>\n",
              "      <td>3</td>\n",
              "    </tr>\n",
              "  </tbody>\n",
              "</table>\n",
              "</div>"
            ],
            "text/plain": [
              "       chip     fines      lump   pellets  Frame  ndex_max\n",
              "0  0.005812  0.000411  0.000003  0.993774      0         3\n",
              "0  0.015484  0.000152  0.000001  0.984363      5         3\n",
              "0  0.025408  0.000350  0.000003  0.974239     10         3\n",
              "0  0.021895  0.000266  0.000002  0.977837     15         3\n",
              "0  0.001866  0.000421  0.000007  0.997706     20         3"
            ]
          },
          "metadata": {
            "tags": []
          },
          "execution_count": 88
        }
      ]
    },
    {
      "cell_type": "code",
      "metadata": {
        "id": "ROiiKiMVr9El",
        "outputId": "a47ddb1e-9fdd-41dc-c2b9-5e0af00292e9",
        "colab": {
          "base_uri": "https://localhost:8080/",
          "height": 195
        }
      },
      "source": [
        "pred_df['class'] = pred_df['ndex_max'].apply(lambda x: class_names[x], 1)\n",
        "pred_df.head()"
      ],
      "execution_count": 89,
      "outputs": [
        {
          "output_type": "execute_result",
          "data": {
            "text/html": [
              "<div>\n",
              "<style scoped>\n",
              "    .dataframe tbody tr th:only-of-type {\n",
              "        vertical-align: middle;\n",
              "    }\n",
              "\n",
              "    .dataframe tbody tr th {\n",
              "        vertical-align: top;\n",
              "    }\n",
              "\n",
              "    .dataframe thead th {\n",
              "        text-align: right;\n",
              "    }\n",
              "</style>\n",
              "<table border=\"1\" class=\"dataframe\">\n",
              "  <thead>\n",
              "    <tr style=\"text-align: right;\">\n",
              "      <th></th>\n",
              "      <th>chip</th>\n",
              "      <th>fines</th>\n",
              "      <th>lump</th>\n",
              "      <th>pellets</th>\n",
              "      <th>Frame</th>\n",
              "      <th>ndex_max</th>\n",
              "      <th>class</th>\n",
              "    </tr>\n",
              "  </thead>\n",
              "  <tbody>\n",
              "    <tr>\n",
              "      <th>0</th>\n",
              "      <td>0.005812</td>\n",
              "      <td>0.000411</td>\n",
              "      <td>0.000003</td>\n",
              "      <td>0.993774</td>\n",
              "      <td>0</td>\n",
              "      <td>3</td>\n",
              "      <td>pellets</td>\n",
              "    </tr>\n",
              "    <tr>\n",
              "      <th>0</th>\n",
              "      <td>0.015484</td>\n",
              "      <td>0.000152</td>\n",
              "      <td>0.000001</td>\n",
              "      <td>0.984363</td>\n",
              "      <td>5</td>\n",
              "      <td>3</td>\n",
              "      <td>pellets</td>\n",
              "    </tr>\n",
              "    <tr>\n",
              "      <th>0</th>\n",
              "      <td>0.025408</td>\n",
              "      <td>0.000350</td>\n",
              "      <td>0.000003</td>\n",
              "      <td>0.974239</td>\n",
              "      <td>10</td>\n",
              "      <td>3</td>\n",
              "      <td>pellets</td>\n",
              "    </tr>\n",
              "    <tr>\n",
              "      <th>0</th>\n",
              "      <td>0.021895</td>\n",
              "      <td>0.000266</td>\n",
              "      <td>0.000002</td>\n",
              "      <td>0.977837</td>\n",
              "      <td>15</td>\n",
              "      <td>3</td>\n",
              "      <td>pellets</td>\n",
              "    </tr>\n",
              "    <tr>\n",
              "      <th>0</th>\n",
              "      <td>0.001866</td>\n",
              "      <td>0.000421</td>\n",
              "      <td>0.000007</td>\n",
              "      <td>0.997706</td>\n",
              "      <td>20</td>\n",
              "      <td>3</td>\n",
              "      <td>pellets</td>\n",
              "    </tr>\n",
              "  </tbody>\n",
              "</table>\n",
              "</div>"
            ],
            "text/plain": [
              "       chip     fines      lump   pellets  Frame  ndex_max    class\n",
              "0  0.005812  0.000411  0.000003  0.993774      0         3  pellets\n",
              "0  0.015484  0.000152  0.000001  0.984363      5         3  pellets\n",
              "0  0.025408  0.000350  0.000003  0.974239     10         3  pellets\n",
              "0  0.021895  0.000266  0.000002  0.977837     15         3  pellets\n",
              "0  0.001866  0.000421  0.000007  0.997706     20         3  pellets"
            ]
          },
          "metadata": {
            "tags": []
          },
          "execution_count": 89
        }
      ]
    },
    {
      "cell_type": "code",
      "metadata": {
        "id": "uXelKHA0sG1Z",
        "outputId": "6d8ed574-360b-41dc-e670-d67b0c63e6f2",
        "colab": {
          "base_uri": "https://localhost:8080/",
          "height": 195
        }
      },
      "source": [
        "category = pred_df[['Frame','class']]\n",
        "category.head()"
      ],
      "execution_count": 81,
      "outputs": [
        {
          "output_type": "execute_result",
          "data": {
            "text/html": [
              "<div>\n",
              "<style scoped>\n",
              "    .dataframe tbody tr th:only-of-type {\n",
              "        vertical-align: middle;\n",
              "    }\n",
              "\n",
              "    .dataframe tbody tr th {\n",
              "        vertical-align: top;\n",
              "    }\n",
              "\n",
              "    .dataframe thead th {\n",
              "        text-align: right;\n",
              "    }\n",
              "</style>\n",
              "<table border=\"1\" class=\"dataframe\">\n",
              "  <thead>\n",
              "    <tr style=\"text-align: right;\">\n",
              "      <th></th>\n",
              "      <th>Frame</th>\n",
              "      <th>class</th>\n",
              "    </tr>\n",
              "  </thead>\n",
              "  <tbody>\n",
              "    <tr>\n",
              "      <th>0</th>\n",
              "      <td>0</td>\n",
              "      <td>pellets</td>\n",
              "    </tr>\n",
              "    <tr>\n",
              "      <th>0</th>\n",
              "      <td>5</td>\n",
              "      <td>pellets</td>\n",
              "    </tr>\n",
              "    <tr>\n",
              "      <th>0</th>\n",
              "      <td>10</td>\n",
              "      <td>pellets</td>\n",
              "    </tr>\n",
              "    <tr>\n",
              "      <th>0</th>\n",
              "      <td>15</td>\n",
              "      <td>pellets</td>\n",
              "    </tr>\n",
              "    <tr>\n",
              "      <th>0</th>\n",
              "      <td>20</td>\n",
              "      <td>pellets</td>\n",
              "    </tr>\n",
              "  </tbody>\n",
              "</table>\n",
              "</div>"
            ],
            "text/plain": [
              "   Frame    class\n",
              "0      0  pellets\n",
              "0      5  pellets\n",
              "0     10  pellets\n",
              "0     15  pellets\n",
              "0     20  pellets"
            ]
          },
          "metadata": {
            "tags": []
          },
          "execution_count": 81
        }
      ]
    },
    {
      "cell_type": "code",
      "metadata": {
        "id": "2EzvFL-BsjOk"
      },
      "source": [
        "category.to_csv(\"/content/drive/My Drive/Module 2/Output-M2-TWIST/category_normal.csv\",index=False)"
      ],
      "execution_count": 90,
      "outputs": []
    },
    {
      "cell_type": "code",
      "metadata": {
        "id": "rwHbuaOfwnpX"
      },
      "source": [
        "test_file = \"/content/drive/My Drive/Module 2/Output-M2-TWIST/category_normal.csv\"\n",
        "predict_file = \"/content/drive/My Drive/Module 2/Output-M2-TWIST/category_lite.csv\"\n",
        "\n",
        "test_df = pd.read_csv(test_file)\n",
        "true_df = pd.read_csv(predict_file)\n",
        "y_pred = test_df['class']\n",
        "y_true = true_df['class']"
      ],
      "execution_count": 96,
      "outputs": []
    },
    {
      "cell_type": "code",
      "metadata": {
        "id": "KJqi4k_GzwiQ",
        "outputId": "a4bf4cbb-49f8-45b8-b560-d6bb2eaf7bc7",
        "colab": {
          "base_uri": "https://localhost:8080/",
          "height": 282
        }
      },
      "source": [
        "from sklearn.metrics import confusion_matrix\n",
        "cf_matrix = confusion_matrix(y_true, y_pred)\n",
        "\n",
        "import seaborn as sns\n",
        "sns.heatmap(cf_matrix/np.sum(cf_matrix), annot=True, \n",
        "            fmt='.2%', cmap='Blues')"
      ],
      "execution_count": 98,
      "outputs": [
        {
          "output_type": "execute_result",
          "data": {
            "text/plain": [
              "<matplotlib.axes._subplots.AxesSubplot at 0x7f82e314a4a8>"
            ]
          },
          "metadata": {
            "tags": []
          },
          "execution_count": 98
        },
        {
          "output_type": "display_data",
          "data": {
            "image/png": "[encoded data removed]",
            "text/plain": [
              "<Figure size 432x288 with 2 Axes>"
            ]
          },
          "metadata": {
            "tags": [],
            "needs_background": "light"
          }
        }
      ]
    },
    {
      "cell_type": "code",
      "metadata": {
        "id": "2DHlJnbK0EFq",
        "outputId": "1574eedc-b0e7-49be-e263-192e8e287f24",
        "colab": {
          "base_uri": "https://localhost:8080/",
          "height": 34
        }
      },
      "source": [
        "print(y_pred.unique())"
      ],
      "execution_count": 101,
      "outputs": [
        {
          "output_type": "stream",
          "text": [
            "['pellets' 'chip' 'lump']\n"
          ],
          "name": "stdout"
        }
      ]
    }
  ]
}